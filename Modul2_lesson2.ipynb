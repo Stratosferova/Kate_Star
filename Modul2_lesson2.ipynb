{
 "cells": [
  {
   "cell_type": "markdown",
   "metadata": {},
   "source": [
    "## Set - множество"
   ]
  },
  {
   "cell_type": "code",
   "execution_count": 208,
   "metadata": {},
   "outputs": [],
   "source": [
    "set_bag = {'pen', 'notebook', 'telephone', 'lipstick', 'maskara', 'lipstick'}"
   ]
  },
  {
   "cell_type": "code",
   "execution_count": 209,
   "metadata": {},
   "outputs": [],
   "source": [
    "set_bag2 = {'pen', 'notebook', 'telephone', 'apple', 'water'}"
   ]
  },
  {
   "cell_type": "code",
   "execution_count": 210,
   "metadata": {},
   "outputs": [
    {
     "data": {
      "text/plain": [
       "{'lipstick', 'maskara', 'notebook', 'pen', 'telephone'}"
      ]
     },
     "execution_count": 210,
     "metadata": {},
     "output_type": "execute_result"
    }
   ],
   "source": [
    "set_bag"
   ]
  },
  {
   "cell_type": "code",
   "execution_count": 211,
   "metadata": {},
   "outputs": [
    {
     "data": {
      "text/plain": [
       "5"
      ]
     },
     "execution_count": 211,
     "metadata": {},
     "output_type": "execute_result"
    }
   ],
   "source": [
    "len(set_bag)"
   ]
  },
  {
   "cell_type": "code",
   "execution_count": 212,
   "metadata": {},
   "outputs": [
    {
     "data": {
      "text/plain": [
       "{'apple', 'lipstick', 'maskara', 'notebook', 'pen', 'telephone', 'water'}"
      ]
     },
     "execution_count": 212,
     "metadata": {},
     "output_type": "execute_result"
    }
   ],
   "source": [
    "set_bag.union(set_bag2) #объединение"
   ]
  },
  {
   "cell_type": "code",
   "execution_count": 13,
   "metadata": {},
   "outputs": [
    {
     "data": {
      "text/plain": [
       "{'notebook', 'pen', 'telephone'}"
      ]
     },
     "execution_count": 13,
     "metadata": {},
     "output_type": "execute_result"
    }
   ],
   "source": [
    "set_bag.intersection(set_bag2) #пересечение"
   ]
  },
  {
   "cell_type": "code",
   "execution_count": 14,
   "metadata": {},
   "outputs": [
    {
     "data": {
      "text/plain": [
       "{'lipstick', 'maskara'}"
      ]
     },
     "execution_count": 14,
     "metadata": {},
     "output_type": "execute_result"
    }
   ],
   "source": [
    "set_bag.difference(set_bag2) #множество из всех элементов set, не принадлежащие ни одному из other (тот что в скобочках)"
   ]
  },
  {
   "cell_type": "code",
   "execution_count": 15,
   "metadata": {},
   "outputs": [
    {
     "data": {
      "text/plain": [
       "{'apple', 'lipstick', 'maskara', 'water'}"
      ]
     },
     "execution_count": 15,
     "metadata": {},
     "output_type": "execute_result"
    }
   ],
   "source": [
    "set_bag.symmetric_difference(set_bag2) #множество из элементов, встречающихся в одном множестве, но не встречающиеся в обоих"
   ]
  },
  {
   "cell_type": "markdown",
   "metadata": {},
   "source": [
    "## Dict - словарь"
   ]
  },
  {
   "cell_type": "markdown",
   "metadata": {},
   "source": [
    "Неупорядоченное множество пар ключ: значение с требованием уникальности ключей. \n",
    "Пара фигурных скобок {} создает пустой словарь. В отличие от последовательностей, доступ к элементам словаря производится по ключу, \n",
    "а не по индексу, ключ может быть любого типа, ключ не допускает изменений."
   ]
  },
  {
   "cell_type": "code",
   "execution_count": 28,
   "metadata": {},
   "outputs": [],
   "source": [
    "dict_capitals = {'Russia': 'Moscow', 'China': 'Beijing', 'USA': 'Washington', 'GB': 'London'}"
   ]
  },
  {
   "cell_type": "code",
   "execution_count": 213,
   "metadata": {},
   "outputs": [
    {
     "data": {
      "text/plain": [
       "{'Russia': 'Moscow', 'China': 'Beijing', 'USA': 'Washington', 'GB': 'London'}"
      ]
     },
     "execution_count": 213,
     "metadata": {},
     "output_type": "execute_result"
    }
   ],
   "source": [
    "dict_capitals"
   ]
  },
  {
   "cell_type": "code",
   "execution_count": 30,
   "metadata": {},
   "outputs": [
    {
     "data": {
      "text/plain": [
       "4"
      ]
     },
     "execution_count": 30,
     "metadata": {},
     "output_type": "execute_result"
    }
   ],
   "source": [
    "len(dict_capitals)"
   ]
  },
  {
   "cell_type": "code",
   "execution_count": 214,
   "metadata": {},
   "outputs": [
    {
     "data": {
      "text/plain": [
       "dict_keys(['Russia', 'China', 'USA', 'GB'])"
      ]
     },
     "execution_count": 214,
     "metadata": {},
     "output_type": "execute_result"
    }
   ],
   "source": [
    "dict_capitals.keys()"
   ]
  },
  {
   "cell_type": "code",
   "execution_count": 215,
   "metadata": {},
   "outputs": [
    {
     "data": {
      "text/plain": [
       "dict_values(['Moscow', 'Beijing', 'Washington', 'London'])"
      ]
     },
     "execution_count": 215,
     "metadata": {},
     "output_type": "execute_result"
    }
   ],
   "source": [
    "dict_capitals.values()"
   ]
  },
  {
   "cell_type": "code",
   "execution_count": 33,
   "metadata": {},
   "outputs": [
    {
     "data": {
      "text/plain": [
       "dict_items([('Russia', 'Moscow'), ('China', 'Beijing'), ('USA', 'Washington'), ('GB', 'London')])"
      ]
     },
     "execution_count": 33,
     "metadata": {},
     "output_type": "execute_result"
    }
   ],
   "source": [
    "dict_capitals.items() #возвращает пары (ключ, значение)"
   ]
  },
  {
   "cell_type": "code",
   "execution_count": null,
   "metadata": {},
   "outputs": [],
   "source": []
  },
  {
   "cell_type": "code",
   "execution_count": 216,
   "metadata": {},
   "outputs": [],
   "source": [
    "dict_capitals['France'] = 'Paris' #добавить элемент"
   ]
  },
  {
   "cell_type": "code",
   "execution_count": 217,
   "metadata": {},
   "outputs": [
    {
     "name": "stdout",
     "output_type": "stream",
     "text": [
      "{'Russia': 'Moscow', 'China': 'Beijing', 'USA': 'Washington', 'GB': 'London', 'France': 'Paris'}\n"
     ]
    }
   ],
   "source": [
    "print(dict_capitals)"
   ]
  },
  {
   "cell_type": "code",
   "execution_count": 218,
   "metadata": {},
   "outputs": [
    {
     "data": {
      "text/plain": [
       "5"
      ]
     },
     "execution_count": 218,
     "metadata": {},
     "output_type": "execute_result"
    }
   ],
   "source": [
    "len(dict_capitals)"
   ]
  },
  {
   "cell_type": "code",
   "execution_count": 219,
   "metadata": {},
   "outputs": [
    {
     "data": {
      "text/plain": [
       "'Paris'"
      ]
     },
     "execution_count": 219,
     "metadata": {},
     "output_type": "execute_result"
    }
   ],
   "source": [
    "dict_capitals.pop('France') #извлекает значение по ключу, для удаления используем del"
   ]
  },
  {
   "cell_type": "code",
   "execution_count": 220,
   "metadata": {},
   "outputs": [
    {
     "data": {
      "text/plain": [
       "{'Russia': 'Moscow', 'China': 'Beijing', 'USA': 'Washington', 'GB': 'London'}"
      ]
     },
     "execution_count": 220,
     "metadata": {},
     "output_type": "execute_result"
    }
   ],
   "source": [
    "dict_capitals"
   ]
  },
  {
   "cell_type": "code",
   "execution_count": 41,
   "metadata": {},
   "outputs": [
    {
     "data": {
      "text/plain": [
       "'Moscow'"
      ]
     },
     "execution_count": 41,
     "metadata": {},
     "output_type": "execute_result"
    }
   ],
   "source": [
    "dict_capitals.get('Russia') #возвращает значение по ключу"
   ]
  },
  {
   "cell_type": "code",
   "execution_count": 222,
   "metadata": {},
   "outputs": [
    {
     "name": "stdout",
     "output_type": "stream",
     "text": [
      "1\n",
      "2\n",
      "3\n",
      "4\n",
      "5\n",
      "6\n",
      "7\n",
      "8\n",
      "9\n",
      "10\n"
     ]
    }
   ],
   "source": [
    "for i in range(1,11):\n",
    "    print(i)"
   ]
  },
  {
   "cell_type": "code",
   "execution_count": null,
   "metadata": {},
   "outputs": [],
   "source": []
  },
  {
   "cell_type": "code",
   "execution_count": null,
   "metadata": {},
   "outputs": [],
   "source": []
  },
  {
   "cell_type": "code",
   "execution_count": null,
   "metadata": {},
   "outputs": [],
   "source": []
  },
  {
   "cell_type": "code",
   "execution_count": 223,
   "metadata": {},
   "outputs": [],
   "source": [
    "superHeroes = {\n",
    "  \"squadName\": \"Super hero squad\",\n",
    "  \"homeTown\": \"Metro City\",\n",
    "  \"formed\": 2016,\n",
    "  \"secretBase\": \"Super tower\",\n",
    "  \"active\": True,\n",
    "  \"members\": [\n",
    "    {\n",
    "      \"name\": \"Molecule Man\",\n",
    "      \"age\": 29,\n",
    "      \"secretIdentity\": \"Dan Jukes\",\n",
    "      \"powers\": [\n",
    "        \"Radiation resistance\",\n",
    "        \"Turning tiny\",\n",
    "        \"Radiation blast\"\n",
    "      ]\n",
    "    },\n",
    "    {\n",
    "      \"name\": \"Madame Uppercut\",\n",
    "      \"age\": 39,\n",
    "      \"secretIdentity\": \"Jane Wilson\",\n",
    "      \"powers\": [\n",
    "        \"Million tonne punch\",\n",
    "        \"Damage resistance\",\n",
    "        \"Superhuman reflexes\"\n",
    "      ]\n",
    "    },\n",
    "    {\n",
    "      \"name\": \"Eternal Flame\",\n",
    "      \"age\": 1000000,\n",
    "      \"secretIdentity\": \"Unknown\",\n",
    "      \"powers\": [\n",
    "        \"Immortality\",\n",
    "        \"Heat Immunity\",\n",
    "        \"Inferno\",\n",
    "        \"Teleportation\",\n",
    "        \"Interdimensional travel\"\n",
    "      ]\n",
    "    }\n",
    "  ]\n",
    "}"
   ]
  },
  {
   "cell_type": "code",
   "execution_count": 201,
   "metadata": {},
   "outputs": [
    {
     "data": {
      "text/plain": [
       "dict_keys(['squadName', 'homeTown', 'formed', 'secretBase', 'active', 'members'])"
      ]
     },
     "execution_count": 201,
     "metadata": {},
     "output_type": "execute_result"
    }
   ],
   "source": [
    "superHeroes.keys()"
   ]
  },
  {
   "cell_type": "code",
   "execution_count": null,
   "metadata": {},
   "outputs": [],
   "source": []
  },
  {
   "cell_type": "code",
   "execution_count": 203,
   "metadata": {},
   "outputs": [
    {
     "data": {
      "text/plain": [
       "True"
      ]
     },
     "execution_count": 203,
     "metadata": {},
     "output_type": "execute_result"
    }
   ],
   "source": [
    "superHeroes['active']"
   ]
  },
  {
   "cell_type": "code",
   "execution_count": 204,
   "metadata": {},
   "outputs": [
    {
     "data": {
      "text/plain": [
       "[{'name': 'Molecule Man',\n",
       "  'age': 29,\n",
       "  'secretIdentity': 'Dan Jukes',\n",
       "  'powers': ['Radiation resistance', 'Turning tiny', 'Radiation blast']},\n",
       " {'name': 'Madame Uppercut',\n",
       "  'age': 39,\n",
       "  'secretIdentity': 'Jane Wilson',\n",
       "  'powers': ['Million tonne punch',\n",
       "   'Damage resistance',\n",
       "   'Superhuman reflexes']},\n",
       " {'name': 'Eternal Flame',\n",
       "  'age': 1000000,\n",
       "  'secretIdentity': 'Unknown',\n",
       "  'powers': ['Immortality',\n",
       "   'Heat Immunity',\n",
       "   'Inferno',\n",
       "   'Teleportation',\n",
       "   'Interdimensional travel']}]"
      ]
     },
     "execution_count": 204,
     "metadata": {},
     "output_type": "execute_result"
    }
   ],
   "source": [
    "superHeroes['members']"
   ]
  },
  {
   "cell_type": "code",
   "execution_count": 224,
   "metadata": {},
   "outputs": [
    {
     "data": {
      "text/plain": [
       "{'name': 'Molecule Man',\n",
       " 'age': 29,\n",
       " 'secretIdentity': 'Dan Jukes',\n",
       " 'powers': ['Radiation resistance', 'Turning tiny', 'Radiation blast']}"
      ]
     },
     "execution_count": 224,
     "metadata": {},
     "output_type": "execute_result"
    }
   ],
   "source": [
    "superHeroes['members'][0]"
   ]
  },
  {
   "cell_type": "markdown",
   "metadata": {},
   "source": [
    "## Пример из API"
   ]
  },
  {
   "cell_type": "code",
   "execution_count": 229,
   "metadata": {},
   "outputs": [],
   "source": [
    "aero = {'airports': [{'active': True,\n",
    "   'city': 'London',\n",
    "   'cityCode': 'LON',\n",
    "   'classification': 1,\n",
    "   'countryCode': 'GB',\n",
    "   'countryName': 'United Kingdom',\n",
    "   'delayIndexUrl': 'https://api.flightstats.com/flex/delayindex/rest/v1/json/airports/LHR?codeType=fs',\n",
    "   'elevationFeet': 80,\n",
    "   'fs': 'LHR',\n",
    "   'iata': 'LHR',\n",
    "   'icao': 'EGLL',\n",
    "   'latitude': 51.469603,\n",
    "   'localTime': '2013-02-27T00:51:02.241',\n",
    "   'longitude': -0.453566,\n",
    "   'name': 'London Heathrow Airport',\n",
    "   'regionName': 'Europe',\n",
    "   'stateCode': 'EN',\n",
    "   'timeZoneRegionName': 'Europe/London',\n",
    "   'utcOffsetHours': 0.0,\n",
    "   'weatherUrl': 'https://api.flightstats.com/flex/weather/rest/v1/json/all/LHR?codeType=fs'},\n",
    "  {'active': True,\n",
    "   'city': 'Penzance',\n",
    "   'cityCode': 'PZE',\n",
    "   'classification': 4,\n",
    "   'countryCode': 'GB',\n",
    "   'countryName': 'United Kingdom',\n",
    "   'delayIndexUrl': 'https://api.flightstats.com/flex/delayindex/rest/v1/json/airports/PZE?codeType=fs',\n",
    "   'fs': 'PZE',\n",
    "   'iata': 'PZE',\n",
    "   'icao': 'EGHK',\n",
    "   'latitude': 50.111944,\n",
    "   'localTime': '2013-02-27T00:51:02.241',\n",
    "   'longitude': -5.516111,\n",
    "   'name': 'Penzance Airport',\n",
    "   'regionName': 'Europe',\n",
    "   'stateCode': 'EN',\n",
    "   'timeZoneRegionName': 'Europe/London',\n",
    "   'utcOffsetHours': 0.0,\n",
    "   'weatherUrl': 'https://api.flightstats.com/flex/weather/rest/v1/json/all/PZE?codeType=fs'},\n",
    "  {'active': True,\n",
    "   'city': 'Glasgow',\n",
    "   'cityCode': 'GLA',\n",
    "   'classification': 4,\n",
    "   'countryCode': 'GB',\n",
    "   'countryName': 'United Kingdom',\n",
    "   'delayIndexUrl': 'https://api.flightstats.com/flex/delayindex/rest/v1/json/airports/PIK?codeType=fs',\n",
    "   'elevationFeet': 66,\n",
    "   'fs': 'PIK',\n",
    "   'iata': 'PIK',\n",
    "   'icao': 'EGPK',\n",
    "   'latitude': 55.508432,\n",
    "   'localTime': '2013-02-27T00:51:02.241',\n",
    "   'longitude': -4.611286,\n",
    "   'name': 'Prestwick Airport',\n",
    "   'regionName': 'Europe',\n",
    "   'stateCode': 'SC',\n",
    "   'timeZoneRegionName': 'Europe/London',\n",
    "   'utcOffsetHours': 0.0,\n",
    "   'weatherUrl': 'https://api.flightstats.com/flex/weather/rest/v1/json/all/PIK?codeType=fs'}]}\n"
   ]
  },
  {
   "cell_type": "code",
   "execution_count": 318,
   "metadata": {},
   "outputs": [
    {
     "data": {
      "text/plain": [
       "{'airports': [{'active': True,\n",
       "   'city': 'London',\n",
       "   'cityCode': 'LON',\n",
       "   'classification': 1,\n",
       "   'countryCode': 'GB',\n",
       "   'countryName': 'United Kingdom',\n",
       "   'delayIndexUrl': 'https://api.flightstats.com/flex/delayindex/rest/v1/json/airports/LHR?codeType=fs',\n",
       "   'elevationFeet': 80,\n",
       "   'fs': 'LHR',\n",
       "   'iata': 'LHR',\n",
       "   'icao': 'EGLL',\n",
       "   'latitude': 51.469603,\n",
       "   'localTime': '2013-02-27T00:51:02.241',\n",
       "   'longitude': -0.453566,\n",
       "   'name': 'London Heathrow Airport',\n",
       "   'regionName': 'Europe',\n",
       "   'stateCode': 'EN',\n",
       "   'timeZoneRegionName': 'Europe/London',\n",
       "   'utcOffsetHours': 0.0,\n",
       "   'weatherUrl': 'https://api.flightstats.com/flex/weather/rest/v1/json/all/LHR?codeType=fs'},\n",
       "  {'active': True,\n",
       "   'city': 'Penzance',\n",
       "   'cityCode': 'PZE',\n",
       "   'classification': 4,\n",
       "   'countryCode': 'GB',\n",
       "   'countryName': 'United Kingdom',\n",
       "   'delayIndexUrl': 'https://api.flightstats.com/flex/delayindex/rest/v1/json/airports/PZE?codeType=fs',\n",
       "   'fs': 'PZE',\n",
       "   'iata': 'PZE',\n",
       "   'icao': 'EGHK',\n",
       "   'latitude': 50.111944,\n",
       "   'localTime': '2013-02-27T00:51:02.241',\n",
       "   'longitude': -5.516111,\n",
       "   'name': 'Penzance Airport',\n",
       "   'regionName': 'Europe',\n",
       "   'stateCode': 'EN',\n",
       "   'timeZoneRegionName': 'Europe/London',\n",
       "   'utcOffsetHours': 0.0,\n",
       "   'weatherUrl': 'https://api.flightstats.com/flex/weather/rest/v1/json/all/PZE?codeType=fs'},\n",
       "  {'active': True,\n",
       "   'city': 'Glasgow',\n",
       "   'cityCode': 'GLA',\n",
       "   'classification': 4,\n",
       "   'countryCode': 'GB',\n",
       "   'countryName': 'United Kingdom',\n",
       "   'delayIndexUrl': 'https://api.flightstats.com/flex/delayindex/rest/v1/json/airports/PIK?codeType=fs',\n",
       "   'elevationFeet': 66,\n",
       "   'fs': 'PIK',\n",
       "   'iata': 'PIK',\n",
       "   'icao': 'EGPK',\n",
       "   'latitude': 55.508432,\n",
       "   'localTime': '2013-02-27T00:51:02.241',\n",
       "   'longitude': -4.611286,\n",
       "   'name': 'Prestwick Airport',\n",
       "   'regionName': 'Europe',\n",
       "   'stateCode': 'SC',\n",
       "   'timeZoneRegionName': 'Europe/London',\n",
       "   'utcOffsetHours': 0.0,\n",
       "   'weatherUrl': 'https://api.flightstats.com/flex/weather/rest/v1/json/all/PIK?codeType=fs'}]}"
      ]
     },
     "execution_count": 318,
     "metadata": {},
     "output_type": "execute_result"
    }
   ],
   "source": [
    "aero"
   ]
  },
  {
   "cell_type": "code",
   "execution_count": 231,
   "metadata": {},
   "outputs": [
    {
     "data": {
      "text/plain": [
       "dict_items([('airports', [{'active': True, 'city': 'London', 'cityCode': 'LON', 'classification': 1, 'countryCode': 'GB', 'countryName': 'United Kingdom', 'delayIndexUrl': 'https://api.flightstats.com/flex/delayindex/rest/v1/json/airports/LHR?codeType=fs', 'elevationFeet': 80, 'fs': 'LHR', 'iata': 'LHR', 'icao': 'EGLL', 'latitude': 51.469603, 'localTime': '2013-02-27T00:51:02.241', 'longitude': -0.453566, 'name': 'London Heathrow Airport', 'regionName': 'Europe', 'stateCode': 'EN', 'timeZoneRegionName': 'Europe/London', 'utcOffsetHours': 0.0, 'weatherUrl': 'https://api.flightstats.com/flex/weather/rest/v1/json/all/LHR?codeType=fs'}, {'active': True, 'city': 'Penzance', 'cityCode': 'PZE', 'classification': 4, 'countryCode': 'GB', 'countryName': 'United Kingdom', 'delayIndexUrl': 'https://api.flightstats.com/flex/delayindex/rest/v1/json/airports/PZE?codeType=fs', 'fs': 'PZE', 'iata': 'PZE', 'icao': 'EGHK', 'latitude': 50.111944, 'localTime': '2013-02-27T00:51:02.241', 'longitude': -5.516111, 'name': 'Penzance Airport', 'regionName': 'Europe', 'stateCode': 'EN', 'timeZoneRegionName': 'Europe/London', 'utcOffsetHours': 0.0, 'weatherUrl': 'https://api.flightstats.com/flex/weather/rest/v1/json/all/PZE?codeType=fs'}, {'active': True, 'city': 'Glasgow', 'cityCode': 'GLA', 'classification': 4, 'countryCode': 'GB', 'countryName': 'United Kingdom', 'delayIndexUrl': 'https://api.flightstats.com/flex/delayindex/rest/v1/json/airports/PIK?codeType=fs', 'elevationFeet': 66, 'fs': 'PIK', 'iata': 'PIK', 'icao': 'EGPK', 'latitude': 55.508432, 'localTime': '2013-02-27T00:51:02.241', 'longitude': -4.611286, 'name': 'Prestwick Airport', 'regionName': 'Europe', 'stateCode': 'SC', 'timeZoneRegionName': 'Europe/London', 'utcOffsetHours': 0.0, 'weatherUrl': 'https://api.flightstats.com/flex/weather/rest/v1/json/all/PIK?codeType=fs'}])])"
      ]
     },
     "execution_count": 231,
     "metadata": {},
     "output_type": "execute_result"
    }
   ],
   "source": [
    "aero.items()"
   ]
  },
  {
   "cell_type": "code",
   "execution_count": null,
   "metadata": {},
   "outputs": [],
   "source": []
  },
  {
   "cell_type": "code",
   "execution_count": 251,
   "metadata": {},
   "outputs": [],
   "source": [
    "aero_sample = list(aero.items())"
   ]
  },
  {
   "cell_type": "code",
   "execution_count": 253,
   "metadata": {},
   "outputs": [
    {
     "data": {
      "text/plain": [
       "[('airports',\n",
       "  [{'active': True,\n",
       "    'city': 'London',\n",
       "    'cityCode': 'LON',\n",
       "    'classification': 1,\n",
       "    'countryCode': 'GB',\n",
       "    'countryName': 'United Kingdom',\n",
       "    'delayIndexUrl': 'https://api.flightstats.com/flex/delayindex/rest/v1/json/airports/LHR?codeType=fs',\n",
       "    'elevationFeet': 80,\n",
       "    'fs': 'LHR',\n",
       "    'iata': 'LHR',\n",
       "    'icao': 'EGLL',\n",
       "    'latitude': 51.469603,\n",
       "    'localTime': '2013-02-27T00:51:02.241',\n",
       "    'longitude': -0.453566,\n",
       "    'name': 'London Heathrow Airport',\n",
       "    'regionName': 'Europe',\n",
       "    'stateCode': 'EN',\n",
       "    'timeZoneRegionName': 'Europe/London',\n",
       "    'utcOffsetHours': 0.0,\n",
       "    'weatherUrl': 'https://api.flightstats.com/flex/weather/rest/v1/json/all/LHR?codeType=fs'},\n",
       "   {'active': True,\n",
       "    'city': 'Penzance',\n",
       "    'cityCode': 'PZE',\n",
       "    'classification': 4,\n",
       "    'countryCode': 'GB',\n",
       "    'countryName': 'United Kingdom',\n",
       "    'delayIndexUrl': 'https://api.flightstats.com/flex/delayindex/rest/v1/json/airports/PZE?codeType=fs',\n",
       "    'fs': 'PZE',\n",
       "    'iata': 'PZE',\n",
       "    'icao': 'EGHK',\n",
       "    'latitude': 50.111944,\n",
       "    'localTime': '2013-02-27T00:51:02.241',\n",
       "    'longitude': -5.516111,\n",
       "    'name': 'Penzance Airport',\n",
       "    'regionName': 'Europe',\n",
       "    'stateCode': 'EN',\n",
       "    'timeZoneRegionName': 'Europe/London',\n",
       "    'utcOffsetHours': 0.0,\n",
       "    'weatherUrl': 'https://api.flightstats.com/flex/weather/rest/v1/json/all/PZE?codeType=fs'},\n",
       "   {'active': True,\n",
       "    'city': 'Glasgow',\n",
       "    'cityCode': 'GLA',\n",
       "    'classification': 4,\n",
       "    'countryCode': 'GB',\n",
       "    'countryName': 'United Kingdom',\n",
       "    'delayIndexUrl': 'https://api.flightstats.com/flex/delayindex/rest/v1/json/airports/PIK?codeType=fs',\n",
       "    'elevationFeet': 66,\n",
       "    'fs': 'PIK',\n",
       "    'iata': 'PIK',\n",
       "    'icao': 'EGPK',\n",
       "    'latitude': 55.508432,\n",
       "    'localTime': '2013-02-27T00:51:02.241',\n",
       "    'longitude': -4.611286,\n",
       "    'name': 'Prestwick Airport',\n",
       "    'regionName': 'Europe',\n",
       "    'stateCode': 'SC',\n",
       "    'timeZoneRegionName': 'Europe/London',\n",
       "    'utcOffsetHours': 0.0,\n",
       "    'weatherUrl': 'https://api.flightstats.com/flex/weather/rest/v1/json/all/PIK?codeType=fs'}])]"
      ]
     },
     "execution_count": 253,
     "metadata": {},
     "output_type": "execute_result"
    }
   ],
   "source": [
    "aero_sample"
   ]
  },
  {
   "cell_type": "code",
   "execution_count": 256,
   "metadata": {},
   "outputs": [
    {
     "data": {
      "text/plain": [
       "[{'active': True,\n",
       "  'city': 'London',\n",
       "  'cityCode': 'LON',\n",
       "  'classification': 1,\n",
       "  'countryCode': 'GB',\n",
       "  'countryName': 'United Kingdom',\n",
       "  'delayIndexUrl': 'https://api.flightstats.com/flex/delayindex/rest/v1/json/airports/LHR?codeType=fs',\n",
       "  'elevationFeet': 80,\n",
       "  'fs': 'LHR',\n",
       "  'iata': 'LHR',\n",
       "  'icao': 'EGLL',\n",
       "  'latitude': 51.469603,\n",
       "  'localTime': '2013-02-27T00:51:02.241',\n",
       "  'longitude': -0.453566,\n",
       "  'name': 'London Heathrow Airport',\n",
       "  'regionName': 'Europe',\n",
       "  'stateCode': 'EN',\n",
       "  'timeZoneRegionName': 'Europe/London',\n",
       "  'utcOffsetHours': 0.0,\n",
       "  'weatherUrl': 'https://api.flightstats.com/flex/weather/rest/v1/json/all/LHR?codeType=fs'},\n",
       " {'active': True,\n",
       "  'city': 'Penzance',\n",
       "  'cityCode': 'PZE',\n",
       "  'classification': 4,\n",
       "  'countryCode': 'GB',\n",
       "  'countryName': 'United Kingdom',\n",
       "  'delayIndexUrl': 'https://api.flightstats.com/flex/delayindex/rest/v1/json/airports/PZE?codeType=fs',\n",
       "  'fs': 'PZE',\n",
       "  'iata': 'PZE',\n",
       "  'icao': 'EGHK',\n",
       "  'latitude': 50.111944,\n",
       "  'localTime': '2013-02-27T00:51:02.241',\n",
       "  'longitude': -5.516111,\n",
       "  'name': 'Penzance Airport',\n",
       "  'regionName': 'Europe',\n",
       "  'stateCode': 'EN',\n",
       "  'timeZoneRegionName': 'Europe/London',\n",
       "  'utcOffsetHours': 0.0,\n",
       "  'weatherUrl': 'https://api.flightstats.com/flex/weather/rest/v1/json/all/PZE?codeType=fs'},\n",
       " {'active': True,\n",
       "  'city': 'Glasgow',\n",
       "  'cityCode': 'GLA',\n",
       "  'classification': 4,\n",
       "  'countryCode': 'GB',\n",
       "  'countryName': 'United Kingdom',\n",
       "  'delayIndexUrl': 'https://api.flightstats.com/flex/delayindex/rest/v1/json/airports/PIK?codeType=fs',\n",
       "  'elevationFeet': 66,\n",
       "  'fs': 'PIK',\n",
       "  'iata': 'PIK',\n",
       "  'icao': 'EGPK',\n",
       "  'latitude': 55.508432,\n",
       "  'localTime': '2013-02-27T00:51:02.241',\n",
       "  'longitude': -4.611286,\n",
       "  'name': 'Prestwick Airport',\n",
       "  'regionName': 'Europe',\n",
       "  'stateCode': 'SC',\n",
       "  'timeZoneRegionName': 'Europe/London',\n",
       "  'utcOffsetHours': 0.0,\n",
       "  'weatherUrl': 'https://api.flightstats.com/flex/weather/rest/v1/json/all/PIK?codeType=fs'}]"
      ]
     },
     "execution_count": 256,
     "metadata": {},
     "output_type": "execute_result"
    }
   ],
   "source": [
    "aero_sample[0][1]"
   ]
  },
  {
   "cell_type": "code",
   "execution_count": 257,
   "metadata": {},
   "outputs": [],
   "source": [
    "aero_gb = aero_sample[0][1]"
   ]
  },
  {
   "cell_type": "code",
   "execution_count": 258,
   "metadata": {},
   "outputs": [
    {
     "data": {
      "text/plain": [
       "[{'active': True,\n",
       "  'city': 'London',\n",
       "  'cityCode': 'LON',\n",
       "  'classification': 1,\n",
       "  'countryCode': 'GB',\n",
       "  'countryName': 'United Kingdom',\n",
       "  'delayIndexUrl': 'https://api.flightstats.com/flex/delayindex/rest/v1/json/airports/LHR?codeType=fs',\n",
       "  'elevationFeet': 80,\n",
       "  'fs': 'LHR',\n",
       "  'iata': 'LHR',\n",
       "  'icao': 'EGLL',\n",
       "  'latitude': 51.469603,\n",
       "  'localTime': '2013-02-27T00:51:02.241',\n",
       "  'longitude': -0.453566,\n",
       "  'name': 'London Heathrow Airport',\n",
       "  'regionName': 'Europe',\n",
       "  'stateCode': 'EN',\n",
       "  'timeZoneRegionName': 'Europe/London',\n",
       "  'utcOffsetHours': 0.0,\n",
       "  'weatherUrl': 'https://api.flightstats.com/flex/weather/rest/v1/json/all/LHR?codeType=fs'},\n",
       " {'active': True,\n",
       "  'city': 'Penzance',\n",
       "  'cityCode': 'PZE',\n",
       "  'classification': 4,\n",
       "  'countryCode': 'GB',\n",
       "  'countryName': 'United Kingdom',\n",
       "  'delayIndexUrl': 'https://api.flightstats.com/flex/delayindex/rest/v1/json/airports/PZE?codeType=fs',\n",
       "  'fs': 'PZE',\n",
       "  'iata': 'PZE',\n",
       "  'icao': 'EGHK',\n",
       "  'latitude': 50.111944,\n",
       "  'localTime': '2013-02-27T00:51:02.241',\n",
       "  'longitude': -5.516111,\n",
       "  'name': 'Penzance Airport',\n",
       "  'regionName': 'Europe',\n",
       "  'stateCode': 'EN',\n",
       "  'timeZoneRegionName': 'Europe/London',\n",
       "  'utcOffsetHours': 0.0,\n",
       "  'weatherUrl': 'https://api.flightstats.com/flex/weather/rest/v1/json/all/PZE?codeType=fs'},\n",
       " {'active': True,\n",
       "  'city': 'Glasgow',\n",
       "  'cityCode': 'GLA',\n",
       "  'classification': 4,\n",
       "  'countryCode': 'GB',\n",
       "  'countryName': 'United Kingdom',\n",
       "  'delayIndexUrl': 'https://api.flightstats.com/flex/delayindex/rest/v1/json/airports/PIK?codeType=fs',\n",
       "  'elevationFeet': 66,\n",
       "  'fs': 'PIK',\n",
       "  'iata': 'PIK',\n",
       "  'icao': 'EGPK',\n",
       "  'latitude': 55.508432,\n",
       "  'localTime': '2013-02-27T00:51:02.241',\n",
       "  'longitude': -4.611286,\n",
       "  'name': 'Prestwick Airport',\n",
       "  'regionName': 'Europe',\n",
       "  'stateCode': 'SC',\n",
       "  'timeZoneRegionName': 'Europe/London',\n",
       "  'utcOffsetHours': 0.0,\n",
       "  'weatherUrl': 'https://api.flightstats.com/flex/weather/rest/v1/json/all/PIK?codeType=fs'}]"
      ]
     },
     "execution_count": 258,
     "metadata": {},
     "output_type": "execute_result"
    }
   ],
   "source": [
    "aero_gb"
   ]
  },
  {
   "cell_type": "code",
   "execution_count": 156,
   "metadata": {},
   "outputs": [
    {
     "data": {
      "text/plain": [
       "dict_items([('active', True), ('city', 'London'), ('cityCode', 'LON'), ('classification', 1), ('countryCode', 'GB'), ('countryName', 'United Kingdom'), ('delayIndexUrl', 'https://api.flightstats.com/flex/delayindex/rest/v1/json/airports/LHR?codeType=fs'), ('elevationFeet', 80), ('fs', 'LHR'), ('iata', 'LHR'), ('icao', 'EGLL'), ('latitude', 51.469603), ('localTime', '2013-02-27T00:51:02.241'), ('longitude', -0.453566), ('name', 'London Heathrow Airport'), ('regionName', 'Europe'), ('stateCode', 'EN'), ('timeZoneRegionName', 'Europe/London'), ('utcOffsetHours', 0.0), ('weatherUrl', 'https://api.flightstats.com/flex/weather/rest/v1/json/all/LHR?codeType=fs')])"
      ]
     },
     "execution_count": 156,
     "metadata": {},
     "output_type": "execute_result"
    }
   ],
   "source": [
    "aero_sample[0].items()"
   ]
  },
  {
   "cell_type": "markdown",
   "metadata": {},
   "source": [
    "## А если данных так много и надо вытащить что-то из каждого?"
   ]
  },
  {
   "cell_type": "code",
   "execution_count": 259,
   "metadata": {},
   "outputs": [
    {
     "data": {
      "text/plain": [
       "{'Russia': 'Moscow', 'China': 'Beijing', 'USA': 'Washington', 'GB': 'London'}"
      ]
     },
     "execution_count": 259,
     "metadata": {},
     "output_type": "execute_result"
    }
   ],
   "source": [
    "dict_capitals"
   ]
  },
  {
   "cell_type": "code",
   "execution_count": 260,
   "metadata": {},
   "outputs": [
    {
     "name": "stdout",
     "output_type": "stream",
     "text": [
      "Russia\n",
      "China\n",
      "USA\n",
      "GB\n"
     ]
    }
   ],
   "source": [
    "for countries in dict_capitals:\n",
    "    print(countries)"
   ]
  },
  {
   "cell_type": "code",
   "execution_count": 261,
   "metadata": {},
   "outputs": [],
   "source": [
    "list_of_smth = [1, 4, 5, 7]"
   ]
  },
  {
   "cell_type": "code",
   "execution_count": 262,
   "metadata": {},
   "outputs": [
    {
     "data": {
      "text/plain": [
       "[1, 4, 5, 7]"
      ]
     },
     "execution_count": 262,
     "metadata": {},
     "output_type": "execute_result"
    }
   ],
   "source": [
    "list_of_smth"
   ]
  },
  {
   "cell_type": "code",
   "execution_count": 264,
   "metadata": {},
   "outputs": [
    {
     "name": "stdout",
     "output_type": "stream",
     "text": [
      "1.0\n",
      "2.0\n",
      "2.23606797749979\n",
      "2.6457513110645907\n"
     ]
    }
   ],
   "source": [
    "for i in list_of_smth:\n",
    "    print(i**0.5)"
   ]
  },
  {
   "cell_type": "code",
   "execution_count": 265,
   "metadata": {},
   "outputs": [
    {
     "name": "stdout",
     "output_type": "stream",
     "text": [
      "Moscow\n",
      "Beijing\n",
      "Washington\n",
      "London\n"
     ]
    }
   ],
   "source": [
    "for i in dict_capitals.values():\n",
    "    print(i)"
   ]
  },
  {
   "cell_type": "code",
   "execution_count": 94,
   "metadata": {},
   "outputs": [
    {
     "name": "stdout",
     "output_type": "stream",
     "text": [
      "('Russia', 'Moscow')\n",
      "('China', 'Beijing')\n",
      "('USA', 'Washington')\n",
      "('GB', 'London')\n"
     ]
    }
   ],
   "source": [
    "for i in dict_capitals.items():\n",
    "    print(i)"
   ]
  },
  {
   "cell_type": "code",
   "execution_count": 112,
   "metadata": {},
   "outputs": [
    {
     "name": "stdout",
     "output_type": "stream",
     "text": [
      "Russia\n",
      "China\n",
      "USA\n",
      "GB\n"
     ]
    }
   ],
   "source": [
    "for i in dict_capitals.keys():\n",
    "        print(i)"
   ]
  },
  {
   "cell_type": "code",
   "execution_count": 270,
   "metadata": {},
   "outputs": [
    {
     "name": "stdout",
     "output_type": "stream",
     "text": [
      "('Russia', 'Moscow')\n"
     ]
    }
   ],
   "source": [
    "for i in dict_capitals.items():\n",
    "    if 'Moscow' in i:\n",
    "        print(i)"
   ]
  },
  {
   "cell_type": "code",
   "execution_count": null,
   "metadata": {},
   "outputs": [],
   "source": []
  },
  {
   "cell_type": "code",
   "execution_count": null,
   "metadata": {},
   "outputs": [],
   "source": []
  },
  {
   "cell_type": "code",
   "execution_count": 271,
   "metadata": {},
   "outputs": [],
   "source": [
    "list_of_city = []\n",
    "for i in dict_capitals.values():\n",
    "    list_of_city.append(i)    "
   ]
  },
  {
   "cell_type": "code",
   "execution_count": 272,
   "metadata": {},
   "outputs": [
    {
     "name": "stdout",
     "output_type": "stream",
     "text": [
      "['Moscow', 'Beijing', 'Washington', 'London']\n"
     ]
    }
   ],
   "source": [
    "print(list_of_city)"
   ]
  },
  {
   "cell_type": "markdown",
   "metadata": {},
   "source": [
    "#  Пример посложнее"
   ]
  },
  {
   "cell_type": "code",
   "execution_count": 290,
   "metadata": {},
   "outputs": [
    {
     "data": {
      "text/plain": [
       "[('airports',\n",
       "  [{'active': True,\n",
       "    'city': 'London',\n",
       "    'cityCode': 'LON',\n",
       "    'classification': 1,\n",
       "    'countryCode': 'GB',\n",
       "    'countryName': 'United Kingdom',\n",
       "    'delayIndexUrl': 'https://api.flightstats.com/flex/delayindex/rest/v1/json/airports/LHR?codeType=fs',\n",
       "    'elevationFeet': 80,\n",
       "    'fs': 'LHR',\n",
       "    'iata': 'LHR',\n",
       "    'icao': 'EGLL',\n",
       "    'latitude': 51.469603,\n",
       "    'localTime': '2013-02-27T00:51:02.241',\n",
       "    'longitude': -0.453566,\n",
       "    'name': 'London Heathrow Airport',\n",
       "    'regionName': 'Europe',\n",
       "    'stateCode': 'EN',\n",
       "    'timeZoneRegionName': 'Europe/London',\n",
       "    'utcOffsetHours': 0.0,\n",
       "    'weatherUrl': 'https://api.flightstats.com/flex/weather/rest/v1/json/all/LHR?codeType=fs'},\n",
       "   {'active': True,\n",
       "    'city': 'Penzance',\n",
       "    'cityCode': 'PZE',\n",
       "    'classification': 4,\n",
       "    'countryCode': 'GB',\n",
       "    'countryName': 'United Kingdom',\n",
       "    'delayIndexUrl': 'https://api.flightstats.com/flex/delayindex/rest/v1/json/airports/PZE?codeType=fs',\n",
       "    'fs': 'PZE',\n",
       "    'iata': 'PZE',\n",
       "    'icao': 'EGHK',\n",
       "    'latitude': 50.111944,\n",
       "    'localTime': '2013-02-27T00:51:02.241',\n",
       "    'longitude': -5.516111,\n",
       "    'name': 'Penzance Airport',\n",
       "    'regionName': 'Europe',\n",
       "    'stateCode': 'EN',\n",
       "    'timeZoneRegionName': 'Europe/London',\n",
       "    'utcOffsetHours': 0.0,\n",
       "    'weatherUrl': 'https://api.flightstats.com/flex/weather/rest/v1/json/all/PZE?codeType=fs'},\n",
       "   {'active': True,\n",
       "    'city': 'Glasgow',\n",
       "    'cityCode': 'GLA',\n",
       "    'classification': 4,\n",
       "    'countryCode': 'GB',\n",
       "    'countryName': 'United Kingdom',\n",
       "    'delayIndexUrl': 'https://api.flightstats.com/flex/delayindex/rest/v1/json/airports/PIK?codeType=fs',\n",
       "    'elevationFeet': 66,\n",
       "    'fs': 'PIK',\n",
       "    'iata': 'PIK',\n",
       "    'icao': 'EGPK',\n",
       "    'latitude': 55.508432,\n",
       "    'localTime': '2013-02-27T00:51:02.241',\n",
       "    'longitude': -4.611286,\n",
       "    'name': 'Prestwick Airport',\n",
       "    'regionName': 'Europe',\n",
       "    'stateCode': 'SC',\n",
       "    'timeZoneRegionName': 'Europe/London',\n",
       "    'utcOffsetHours': 0.0,\n",
       "    'weatherUrl': 'https://api.flightstats.com/flex/weather/rest/v1/json/all/PIK?codeType=fs'}])]"
      ]
     },
     "execution_count": 290,
     "metadata": {},
     "output_type": "execute_result"
    }
   ],
   "source": [
    "aero_sample"
   ]
  },
  {
   "cell_type": "code",
   "execution_count": 293,
   "metadata": {},
   "outputs": [
    {
     "data": {
      "text/plain": [
       "[{'active': True,\n",
       "  'city': 'London',\n",
       "  'cityCode': 'LON',\n",
       "  'classification': 1,\n",
       "  'countryCode': 'GB',\n",
       "  'countryName': 'United Kingdom',\n",
       "  'delayIndexUrl': 'https://api.flightstats.com/flex/delayindex/rest/v1/json/airports/LHR?codeType=fs',\n",
       "  'elevationFeet': 80,\n",
       "  'fs': 'LHR',\n",
       "  'iata': 'LHR',\n",
       "  'icao': 'EGLL',\n",
       "  'latitude': 51.469603,\n",
       "  'localTime': '2013-02-27T00:51:02.241',\n",
       "  'longitude': -0.453566,\n",
       "  'name': 'London Heathrow Airport',\n",
       "  'regionName': 'Europe',\n",
       "  'stateCode': 'EN',\n",
       "  'timeZoneRegionName': 'Europe/London',\n",
       "  'utcOffsetHours': 0.0,\n",
       "  'weatherUrl': 'https://api.flightstats.com/flex/weather/rest/v1/json/all/LHR?codeType=fs'},\n",
       " {'active': True,\n",
       "  'city': 'Penzance',\n",
       "  'cityCode': 'PZE',\n",
       "  'classification': 4,\n",
       "  'countryCode': 'GB',\n",
       "  'countryName': 'United Kingdom',\n",
       "  'delayIndexUrl': 'https://api.flightstats.com/flex/delayindex/rest/v1/json/airports/PZE?codeType=fs',\n",
       "  'fs': 'PZE',\n",
       "  'iata': 'PZE',\n",
       "  'icao': 'EGHK',\n",
       "  'latitude': 50.111944,\n",
       "  'localTime': '2013-02-27T00:51:02.241',\n",
       "  'longitude': -5.516111,\n",
       "  'name': 'Penzance Airport',\n",
       "  'regionName': 'Europe',\n",
       "  'stateCode': 'EN',\n",
       "  'timeZoneRegionName': 'Europe/London',\n",
       "  'utcOffsetHours': 0.0,\n",
       "  'weatherUrl': 'https://api.flightstats.com/flex/weather/rest/v1/json/all/PZE?codeType=fs'},\n",
       " {'active': True,\n",
       "  'city': 'Glasgow',\n",
       "  'cityCode': 'GLA',\n",
       "  'classification': 4,\n",
       "  'countryCode': 'GB',\n",
       "  'countryName': 'United Kingdom',\n",
       "  'delayIndexUrl': 'https://api.flightstats.com/flex/delayindex/rest/v1/json/airports/PIK?codeType=fs',\n",
       "  'elevationFeet': 66,\n",
       "  'fs': 'PIK',\n",
       "  'iata': 'PIK',\n",
       "  'icao': 'EGPK',\n",
       "  'latitude': 55.508432,\n",
       "  'localTime': '2013-02-27T00:51:02.241',\n",
       "  'longitude': -4.611286,\n",
       "  'name': 'Prestwick Airport',\n",
       "  'regionName': 'Europe',\n",
       "  'stateCode': 'SC',\n",
       "  'timeZoneRegionName': 'Europe/London',\n",
       "  'utcOffsetHours': 0.0,\n",
       "  'weatherUrl': 'https://api.flightstats.com/flex/weather/rest/v1/json/all/PIK?codeType=fs'}]"
      ]
     },
     "execution_count": 293,
     "metadata": {},
     "output_type": "execute_result"
    }
   ],
   "source": [
    "aero_gb"
   ]
  },
  {
   "cell_type": "code",
   "execution_count": 301,
   "metadata": {},
   "outputs": [
    {
     "data": {
      "text/plain": [
       "'London Heathrow Airport'"
      ]
     },
     "execution_count": 301,
     "metadata": {},
     "output_type": "execute_result"
    }
   ],
   "source": [
    "aero_gb[0].get('name')"
   ]
  },
  {
   "cell_type": "code",
   "execution_count": 302,
   "metadata": {},
   "outputs": [
    {
     "data": {
      "text/plain": [
       "'Penzance Airport'"
      ]
     },
     "execution_count": 302,
     "metadata": {},
     "output_type": "execute_result"
    }
   ],
   "source": [
    "aero_gb[1].get('name')"
   ]
  },
  {
   "cell_type": "code",
   "execution_count": 303,
   "metadata": {},
   "outputs": [
    {
     "data": {
      "text/plain": [
       "'Prestwick Airport'"
      ]
     },
     "execution_count": 303,
     "metadata": {},
     "output_type": "execute_result"
    }
   ],
   "source": [
    "aero_gb[2].get('name')"
   ]
  },
  {
   "cell_type": "code",
   "execution_count": null,
   "metadata": {},
   "outputs": [],
   "source": []
  },
  {
   "cell_type": "code",
   "execution_count": null,
   "metadata": {},
   "outputs": [],
   "source": []
  },
  {
   "cell_type": "code",
   "execution_count": null,
   "metadata": {},
   "outputs": [],
   "source": []
  },
  {
   "cell_type": "code",
   "execution_count": null,
   "metadata": {},
   "outputs": [],
   "source": []
  },
  {
   "cell_type": "code",
   "execution_count": 311,
   "metadata": {},
   "outputs": [
    {
     "name": "stdout",
     "output_type": "stream",
     "text": [
      "['London Heathrow Airport', 'Penzance Airport', 'Prestwick Airport']\n"
     ]
    }
   ],
   "source": [
    "list_of_aeronames = []\n",
    "for element in aero_gb:\n",
    "    list_of_aeronames.append(element.get('name'))\n",
    "print(list_of_aeronames)"
   ]
  },
  {
   "cell_type": "code",
   "execution_count": null,
   "metadata": {},
   "outputs": [],
   "source": []
  },
  {
   "cell_type": "code",
   "execution_count": null,
   "metadata": {},
   "outputs": [],
   "source": []
  },
  {
   "cell_type": "code",
   "execution_count": 317,
   "metadata": {},
   "outputs": [
    {
     "name": "stdout",
     "output_type": "stream",
     "text": [
      "Список аэропортов: ['London Heathrow Airport', 'Penzance Airport', 'Prestwick Airport']\n"
     ]
    }
   ],
   "source": [
    "print('Список аэропортов: {}'.format(list_of_aeronames))"
   ]
  },
  {
   "cell_type": "code",
   "execution_count": null,
   "metadata": {},
   "outputs": [],
   "source": []
  },
  {
   "cell_type": "code",
   "execution_count": null,
   "metadata": {},
   "outputs": [],
   "source": []
  },
  {
   "cell_type": "code",
   "execution_count": null,
   "metadata": {},
   "outputs": [],
   "source": []
  },
  {
   "cell_type": "code",
   "execution_count": null,
   "metadata": {},
   "outputs": [],
   "source": []
  },
  {
   "cell_type": "markdown",
   "metadata": {},
   "source": [
    "Полезные ссылки\n",
    "Множества\n",
    "https://docs.python.org/3/tutorial/datastructures.html#sets\n",
    "https://pythonworld.ru/tipy-dannyx-v-python/mnozhestva-set-i-frozenset.html\n",
    "Словари\n",
    "https://pythonworld.ru/tipy-dannyx-v-python/slovari-dict-funkcii-i-metody-slovarej.html\n",
    "https://pythontutor.ru/lessons/dicts/\n",
    "https://devpractice.ru/python-lesson-9-dict/\n",
    "\n",
    "Данные для SEO. Пример\n",
    "https://docs.python.org/3/library/json.html\n",
    "https://habr.com/company/rambler-co/blog/301640/\n",
    "https://docs.python.org/2/library/json.html\n",
    "https://stackoverflow.com/questions/12965203/how-to-get-json-from-webpage-into-python-script\n"
   ]
  }
 ],
 "metadata": {
  "kernelspec": {
   "display_name": "Python 3",
   "language": "python",
   "name": "python3"
  },
  "language_info": {
   "codemirror_mode": {
    "name": "ipython",
    "version": 3
   },
   "file_extension": ".py",
   "mimetype": "text/x-python",
   "name": "python",
   "nbconvert_exporter": "python",
   "pygments_lexer": "ipython3",
   "version": "3.7.0"
  }
 },
 "nbformat": 4,
 "nbformat_minor": 2
}
